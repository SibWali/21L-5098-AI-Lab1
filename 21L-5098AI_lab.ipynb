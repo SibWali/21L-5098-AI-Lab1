{
 "cells": [
  {
   "cell_type": "code",
   "execution_count": 17,
   "id": "e3f3ebba",
   "metadata": {},
   "outputs": [
    {
     "name": "stdout",
     "output_type": "stream",
     "text": [
      "Hello,World\n"
     ]
    }
   ],
   "source": [
    "print(\"Hello,World\")\n",
    "#Question1\n",
    "\n"
   ]
  },
  {
   "cell_type": "code",
   "execution_count": 3,
   "id": "148235ad",
   "metadata": {},
   "outputs": [
    {
     "name": "stdout",
     "output_type": "stream",
     "text": [
      "Enter your age: 22\n",
      "what is your name ?: Sibtain wali\\\n",
      "Hi my name is Sibtain wali\\and I am 22 years old.\n"
     ]
    }
   ],
   "source": [
    "age=input(\"Enter your age: \")\n",
    "name=input(\"what is your name ?: \")\n",
    "print(\"Hi my name is \"+name+ \"and I am \"+age+\" years old.\")\n",
    "#Question2\n"
   ]
  },
  {
   "cell_type": "code",
   "execution_count": 14,
   "id": "3fae8a60",
   "metadata": {},
   "outputs": [
    {
     "name": "stdout",
     "output_type": "stream",
     "text": [
      "Enter something: 12.4\n",
      "The input is a float: 12.4\n"
     ]
    }
   ],
   "source": [
    "user_input = input(\"Enter something: \")\n",
    "try:\n",
    "    value = int(user_input)\n",
    "    print(f\"The input is an integer: {value}\")  \n",
    "except ValueError:\n",
    "    try:\n",
    "        value = float(user_input)\n",
    "        print(f\"The input is a float: {value}\")  \n",
    "    except ValueError: \n",
    "        print(f\"The input is a string: {user_input}\")\n",
    "        #Question3\n",
    "\n",
    "\n",
    "\n"
   ]
  },
  {
   "cell_type": "code",
   "execution_count": 23,
   "id": "0ee0617a",
   "metadata": {},
   "outputs": [
    {
     "name": "stdout",
     "output_type": "stream",
     "text": [
      "SIBTAIN\n",
      "AWAB\n",
      "WALI\n"
     ]
    }
   ],
   "source": [
    "myList=[\"Sibtain\",\"Awab\",\"Fast\"]\n",
    "\n",
    "myList.append(\"Wali\")\n",
    "\n",
    "myList.remove(\"Fast\")\n",
    "\n",
    "for item in myList:\n",
    "    print(item.upper())\n",
    "\n",
    "#Question4"
   ]
  },
  {
   "cell_type": "code",
   "execution_count": 24,
   "id": "24edc7d7",
   "metadata": {},
   "outputs": [
    {
     "name": "stdout",
     "output_type": "stream",
     "text": [
      "First element: Sibtain\n",
      "Second element: Awab\n"
     ]
    }
   ],
   "source": [
    "#Question5\n",
    "\n",
    "myTuple = (\"Sibtain\",\"Awab\",\"fast\")\n",
    "\n",
    "first,second = myTuple[:2]\n",
    "\n",
    "print(f\"First element: {first}\")\n",
    "print(f\"Second element: {second}\")\n",
    "\n",
    "\n",
    "      "
   ]
  },
  {
   "cell_type": "code",
   "execution_count": 35,
   "id": "e6936798",
   "metadata": {},
   "outputs": [
    {
     "name": "stdout",
     "output_type": "stream",
     "text": [
      "{'Sibtain': 12, 'Wali': 90, 'Awab': 67, 'Jutt': 78, 'Talha': 96}\n"
     ]
    }
   ],
   "source": [
    "#Question6\n",
    "\n",
    "students = {\n",
    "    \"Sibtain\":12,\n",
    "    \"Wali\":90,\n",
    "    \"Awab\":67,\n",
    "    \"Jutt\":78,\n",
    "    \"Talha\":96,\n",
    "}\n",
    "print(students)"
   ]
  },
  {
   "cell_type": "code",
   "execution_count": 30,
   "id": "68dde413",
   "metadata": {},
   "outputs": [
    {
     "name": "stdout",
     "output_type": "stream",
     "text": [
      "Enter the list of integers by space: 12 15 16 \n",
      "Enter the list of integers by space: 12 34 16\n",
      "Union: {16, 34, 12, 15}\n",
      "Intersction: {16, 12}\n",
      "Difference (set1 - set2): {15}\n"
     ]
    }
   ],
   "source": [
    "#Question7\n",
    "\n",
    "List1 = list(map(int,input(\"Enter the list of integers by space: \").split()))\n",
    "List2 = list(map(int,input(\"Enter the list of integers by space: \").split()))\n",
    "\n",
    "set1 = set(List1)\n",
    "set2 = set(List2)\n",
    "\n",
    "unoin = set1 | set2 \n",
    "intersection = set1 & set2 \n",
    "difference = set1 - set2 \n",
    "\n",
    "print(f\"Union: {unoin}\")\n",
    "print(f\"Intersction: {intersection}\")\n",
    "print(f\"Difference (set1 - set2): {difference}\")\n",
    "\n"
   ]
  },
  {
   "cell_type": "code",
   "execution_count": 34,
   "id": "8c6eaeb9",
   "metadata": {},
   "outputs": [
    {
     "name": "stdout",
     "output_type": "stream",
     "text": [
      "Enter an integer: 9\n",
      "The number is positive\n",
      "The number is odd\n"
     ]
    }
   ],
   "source": [
    "#Question 8\n",
    "\n",
    "number = int(input(\"Enter an integer: \"))\n",
    "\n",
    "if number > 0:\n",
    "    print(\"The number is positive\")\n",
    "elif number < 0:\n",
    "    print(\"The number is negative\")\n",
    "else:\n",
    "    print(\"The number is zero\")\n",
    "    \n",
    "if number % 2 == 0:\n",
    "    print(\"the number is even\")\n",
    "else:\n",
    "    print(\"The number is odd\")\n",
    "    "
   ]
  },
  {
   "cell_type": "code",
   "execution_count": 37,
   "id": "12d62cec",
   "metadata": {},
   "outputs": [
    {
     "name": "stdout",
     "output_type": "stream",
     "text": [
      "1\n",
      "2\n",
      "Fizz\n",
      "4\n",
      "Buzz\n",
      "Fizz\n",
      "7\n",
      "8\n",
      "Fizz\n",
      "Buzz\n",
      "11\n",
      "Fizz\n",
      "13\n",
      "14\n",
      "FizzBuzz\n",
      "16\n",
      "17\n",
      "Fizz\n",
      "19\n",
      "Buzz\n",
      "Fizz\n",
      "22\n",
      "23\n",
      "Fizz\n",
      "Buzz\n",
      "26\n",
      "Fizz\n",
      "28\n",
      "29\n",
      "FizzBuzz\n",
      "31\n",
      "32\n",
      "Fizz\n",
      "34\n",
      "Buzz\n",
      "Fizz\n",
      "37\n",
      "38\n",
      "Fizz\n",
      "Buzz\n",
      "41\n",
      "Fizz\n",
      "43\n",
      "44\n",
      "FizzBuzz\n",
      "46\n",
      "47\n",
      "Fizz\n",
      "49\n",
      "Buzz\n"
     ]
    }
   ],
   "source": [
    "#Question 9 \n",
    "\n",
    "for i in range(1,51):\n",
    "    if i % 3 == 0 and i % 5 == 0:\n",
    "        print(\"FizzBuzz\")\n",
    "    elif i % 3 == 0:\n",
    "        print(\"Fizz\")\n",
    "    elif i % 5 == 0:\n",
    "        print(\"Buzz\")\n",
    "    else:\n",
    "        print(i)\n",
    "            \n",
    "        \n"
   ]
  },
  {
   "cell_type": "code",
   "execution_count": 49,
   "id": "7c0fc091",
   "metadata": {},
   "outputs": [
    {
     "name": "stdout",
     "output_type": "stream",
     "text": [
      "Enter a non-negative integers: 5\n",
      "the factorial of 5 is 120 \n"
     ]
    }
   ],
   "source": [
    "#Question 10 \n",
    "\n",
    "def factorial(n):\n",
    "    \n",
    "    if n == 0 or n == 1:\n",
    "        return 1\n",
    "    result = 1\n",
    "    for i in range(2,n+1):\n",
    "        result*=i\n",
    "    return result\n",
    "\n",
    "\n",
    "number = int(input(\"Enter a non-negative integers: \"))\n",
    "print(f\"the factorial of {number} is {factorial(number)} \")\n",
    "\n"
   ]
  },
  {
   "cell_type": "code",
   "execution_count": 53,
   "id": "d688658d",
   "metadata": {},
   "outputs": [],
   "source": [
    "#Question 11\n",
    "\n",
    "def isPrime(n):\n",
    "    if n<=1:\n",
    "        return false\n",
    "    for i in range(2,int(n**0.5)+1):\n",
    "        if n % i == 0:\n",
    "            return false\n",
    "        return true\n",
    "    number = int(input(\"enter a number: \"))\n",
    "    if isPrime(number):\n",
    "        print(f\"{number} is a prime number\")\n",
    "    else:\n",
    "        print(f\"{number} is not a prime number\")\n",
    "            \n"
   ]
  },
  {
   "cell_type": "code",
   "execution_count": 52,
   "id": "7c09ba9c",
   "metadata": {},
   "outputs": [
    {
     "name": "stdout",
     "output_type": "stream",
     "text": [
      "Squared numbers: [1, 4, 9, 16, 25]\n"
     ]
    }
   ],
   "source": [
    "#Question 12 \n",
    "def squre_list(numbers):\n",
    "    return [x**2 for x in numbers]\n",
    "\n",
    "numbers = [1,2,3,4,5]\n",
    "squared_numbers = squre_list(numbers)\n",
    "print(f\"Squared numbers: {squared_numbers}\")\n"
   ]
  },
  {
   "cell_type": "code",
   "execution_count": 54,
   "id": "d089e8e4",
   "metadata": {},
   "outputs": [
    {
     "name": "stdout",
     "output_type": "stream",
     "text": [
      "{'a': 1, 'b': 3, 'c': 4}\n"
     ]
    }
   ],
   "source": [
    "#Question 13\n",
    "\n",
    "Dictionarey1 = {\"a\":1 , \"b\":2}\n",
    "Dictionarey2 = {\"b\":3 , \"c\": 4}\n",
    "\n",
    "merged_Dictionaries = {**Dictionarey1,**Dictionarey2}\n",
    "\n",
    "print(merged_Dictionaries)\n"
   ]
  },
  {
   "cell_type": "code",
   "execution_count": 63,
   "id": "8124412b",
   "metadata": {},
   "outputs": [],
   "source": [
    "#Question 14\n",
    "\n",
    "def removedupli(numbers):\n",
    "    seen=set()\n",
    "    result=[]\n",
    "    for num in numbers:\n",
    "        if num not in seen:\n",
    "            result.append(num)\n",
    "            seen.add(num)\n",
    "            return result\n",
    "        numbers = [1,2,2,2,3,4,4,5,8]\n",
    "        number1 = removedupli(numbers)\n",
    "        print(f\"List without duplicates:  {number1}\")\n",
    "        return number1\n"
   ]
  },
  {
   "cell_type": "code",
   "execution_count": 67,
   "id": "ee268aad",
   "metadata": {},
   "outputs": [
    {
     "name": "stdout",
     "output_type": "stream",
     "text": [
      "Enter a string: radar\n",
      "'radar' is a palindrome\n"
     ]
    }
   ],
   "source": [
    "#Question 15 \n",
    "\n",
    "\n",
    "def is_palindrome(s):\n",
    "    s = s.replace(\" \",\"\").lower()\n",
    "    return s == s[::-1]\n",
    "\n",
    "string = input(\"Enter a string: \")\n",
    "if is_palindrome(string):\n",
    "    print(f\"'{string}' is a palindrome\")\n",
    "else:\n",
    "    print(f\"'{string}' is not a palindrome\")\n",
    "\n",
    "\n",
    "\n",
    "\n",
    "\n",
    "\n"
   ]
  },
  {
   "cell_type": "code",
   "execution_count": 70,
   "id": "bf500db6",
   "metadata": {},
   "outputs": [
    {
     "name": "stdout",
     "output_type": "stream",
     "text": [
      "enter the number: 6\n",
      "Fibonacci sequence: [0, 1, 1, 2, 3, 5]\n"
     ]
    }
   ],
   "source": [
    "#Question 16\n",
    "\n",
    "def fibonacci(n):\n",
    "    sequence=[]\n",
    "    a ,b =0,1 \n",
    "    for _ in range(n):\n",
    "        sequence.append(a)\n",
    "        a,b = b,a+b\n",
    "    return sequence\n",
    "\n",
    "n=int(input(\"enter the number: \"))\n",
    "fib_sequence = fibonacci(n)\n",
    "print(f\"Fibonacci sequence: {fib_sequence}\")\n",
    "\n",
    "        \n",
    "\n",
    "\n"
   ]
  },
  {
   "cell_type": "code",
   "execution_count": 75,
   "id": "b6204103",
   "metadata": {},
   "outputs": [
    {
     "name": "stdout",
     "output_type": "stream",
     "text": [
      "Enter a number (or type 'done' to finish): done\n",
      "No numbers were entered.\n"
     ]
    }
   ],
   "source": [
    "numbers = [] \n",
    "\n",
    "while True:\n",
    "    user_input = input(\"Enter a number (or type 'done' to finish): \")\n",
    "    if user_input.lower() == 'done':\n",
    "        break\n",
    "    try:\n",
    "        number = float(user_input)\n",
    "        numbers.append(number)  \n",
    "    except ValueError:  \n",
    "        print(\"Invalid input. Please enter a numeric value.\")  \n",
    "\n",
    "if numbers:  \n",
    "    average = sum(numbers) / len(numbers)  \n",
    "    print(f\"The average of the numbers is: {average}\") \n",
    "else:\n",
    "    print(\"No numbers were entered.\") \n",
    "\n",
    "    \n",
    "    #Question 17\n",
    "\n"
   ]
  },
  {
   "cell_type": "code",
   "execution_count": 76,
   "id": "f84b32f4",
   "metadata": {},
   "outputs": [
    {
     "name": "stdout",
     "output_type": "stream",
     "text": [
      "1x1 = 1\t\n",
      "1x2 = 2\t\n",
      "1x3 = 3\t\n",
      "1x4 = 4\t\n",
      "1x5 = 5\t\n",
      "1x6 = 6\t\n",
      "1x7 = 7\t\n",
      "1x8 = 8\t\n",
      "1x9 = 9\t\n",
      "1x10 = 10\t\n",
      "2x1 = 2\t\n",
      "2x2 = 4\t\n",
      "2x3 = 6\t\n",
      "2x4 = 8\t\n",
      "2x5 = 10\t\n",
      "2x6 = 12\t\n",
      "2x7 = 14\t\n",
      "2x8 = 16\t\n",
      "2x9 = 18\t\n",
      "2x10 = 20\t\n",
      "3x1 = 3\t\n",
      "3x2 = 6\t\n",
      "3x3 = 9\t\n",
      "3x4 = 12\t\n",
      "3x5 = 15\t\n",
      "3x6 = 18\t\n",
      "3x7 = 21\t\n",
      "3x8 = 24\t\n",
      "3x9 = 27\t\n",
      "3x10 = 30\t\n",
      "4x1 = 4\t\n",
      "4x2 = 8\t\n",
      "4x3 = 12\t\n",
      "4x4 = 16\t\n",
      "4x5 = 20\t\n",
      "4x6 = 24\t\n",
      "4x7 = 28\t\n",
      "4x8 = 32\t\n",
      "4x9 = 36\t\n",
      "4x10 = 40\t\n",
      "5x1 = 5\t\n",
      "5x2 = 10\t\n",
      "5x3 = 15\t\n",
      "5x4 = 20\t\n",
      "5x5 = 25\t\n",
      "5x6 = 30\t\n",
      "5x7 = 35\t\n",
      "5x8 = 40\t\n",
      "5x9 = 45\t\n",
      "5x10 = 50\t\n",
      "6x1 = 6\t\n",
      "6x2 = 12\t\n",
      "6x3 = 18\t\n",
      "6x4 = 24\t\n",
      "6x5 = 30\t\n",
      "6x6 = 36\t\n",
      "6x7 = 42\t\n",
      "6x8 = 48\t\n",
      "6x9 = 54\t\n",
      "6x10 = 60\t\n",
      "7x1 = 7\t\n",
      "7x2 = 14\t\n",
      "7x3 = 21\t\n",
      "7x4 = 28\t\n",
      "7x5 = 35\t\n",
      "7x6 = 42\t\n",
      "7x7 = 49\t\n",
      "7x8 = 56\t\n",
      "7x9 = 63\t\n",
      "7x10 = 70\t\n",
      "8x1 = 8\t\n",
      "8x2 = 16\t\n",
      "8x3 = 24\t\n",
      "8x4 = 32\t\n",
      "8x5 = 40\t\n",
      "8x6 = 48\t\n",
      "8x7 = 56\t\n",
      "8x8 = 64\t\n",
      "8x9 = 72\t\n",
      "8x10 = 80\t\n",
      "9x1 = 9\t\n",
      "9x2 = 18\t\n",
      "9x3 = 27\t\n",
      "9x4 = 36\t\n",
      "9x5 = 45\t\n",
      "9x6 = 54\t\n",
      "9x7 = 63\t\n",
      "9x8 = 72\t\n",
      "9x9 = 81\t\n",
      "9x10 = 90\t\n",
      "10x1 = 10\t\n",
      "10x2 = 20\t\n",
      "10x3 = 30\t\n",
      "10x4 = 40\t\n",
      "10x5 = 50\t\n",
      "10x6 = 60\t\n",
      "10x7 = 70\t\n",
      "10x8 = 80\t\n",
      "10x9 = 90\t\n",
      "10x10 = 100\t\n"
     ]
    }
   ],
   "source": [
    "#Question 18\n",
    "\n",
    "for i in range(1,11):\n",
    "    for j in range(1,11):\n",
    "        print(f\"{i}x{j} = {i*j}\",end=\"\\t\")\n",
    "        print()\n",
    "\n"
   ]
  },
  {
   "cell_type": "code",
   "execution_count": 77,
   "id": "41a52c54",
   "metadata": {},
   "outputs": [
    {
     "name": "stdout",
     "output_type": "stream",
     "text": [
      "enter'register' to sign up,'login' to sign in,'quit' to exitregister\n",
      "enter a username: sibtain\n",
      "enter a password: 123\n",
      "Regustrationj successful! \n",
      "enter'register' to sign up,'login' to sign in,'quit' to exitlogin\n",
      "enter your user name: sibtain\n",
      "enter your password: 123\n",
      "login successfull\n",
      "enter'register' to sign up,'login' to sign in,'quit' to exitquit\n"
     ]
    }
   ],
   "source": [
    "#Question 19 \n",
    "users = {}\n",
    "\n",
    "def register():\n",
    "    username = input(\"enter a username: \")\n",
    "    password = input(\"enter a password: \")\n",
    "    users[username] = password\n",
    "    print(\"Regustrationj successful! \")\n",
    "    \n",
    "    \n",
    "def login():\n",
    "    username = input(\"enter your user name: \")\n",
    "    password = input(\"enter your password: \")\n",
    "    if username in users and users[username] == password:\n",
    "        print(\"login successfull\")\n",
    "    else:\n",
    "        print(\"Invalid username and password\")\n",
    "        \n",
    "while True:\n",
    "    action = input(\"enter'register' to sign up,'login' to sign in,'quit' to exit\")\n",
    "    if action == \"register\":\n",
    "        register()\n",
    "    elif action == \"login\":\n",
    "        login()\n",
    "    elif action == \"quit\":\n",
    "        break\n",
    "    else:\n",
    "        print(\"Invalid actions try again \")\n",
    "        \n",
    "\n",
    "\n"
   ]
  },
  {
   "cell_type": "code",
   "execution_count": 79,
   "id": "324caaff",
   "metadata": {},
   "outputs": [
    {
     "name": "stdout",
     "output_type": "stream",
     "text": [
      "Enter a list of words: apple apple jutt jutt wali wali lahore lahore \n",
      "apple: 2\n",
      "jutt: 2\n",
      "wali: 2\n",
      "lahore: 2\n"
     ]
    }
   ],
   "source": [
    "#Question 20 \n",
    "\n",
    "words = input(\"Enter a list of words: \").split()\n",
    "word_count = {}\n",
    "for word in words:\n",
    "    if word in word_count:\n",
    "        word_count[word]+=1\n",
    "    else:\n",
    "        word_count[word] = 1 \n",
    "        \n",
    "for word , count in word_count.items():\n",
    "    print(f\"{word}: {count}\")\n",
    "    \n",
    "\n",
    "\n"
   ]
  },
  {
   "cell_type": "code",
   "execution_count": null,
   "id": "4519120c",
   "metadata": {},
   "outputs": [],
   "source": [
    "#Question 21 \n",
    "\n",
    "\n",
    "\n",
    "\n",
    "\n"
   ]
  }
 ],
 "metadata": {
  "kernelspec": {
   "display_name": "Python 3",
   "language": "python",
   "name": "python3"
  },
  "language_info": {
   "codemirror_mode": {
    "name": "ipython",
    "version": 3
   },
   "file_extension": ".py",
   "mimetype": "text/x-python",
   "name": "python",
   "nbconvert_exporter": "python",
   "pygments_lexer": "ipython3",
   "version": "3.8.8"
  }
 },
 "nbformat": 4,
 "nbformat_minor": 5
}
